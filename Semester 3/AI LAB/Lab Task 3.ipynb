{
 "cells": [
  {
   "cell_type": "code",
   "execution_count": 1,
   "metadata": {},
   "outputs": [
    {
     "name": "stdout",
     "output_type": "stream",
     "text": [
      "Living Room: Current temperature = 18°C. Turn on heater.\n",
      "Bedroom: Current temperature = 22°C. Turn off heater.\n",
      "Kitchen: Current temperature = 20°C. Turn on heater.\n",
      "Bathroom: Current temperature = 24°C. Turn off heater.\n"
     ]
    }
   ],
   "source": [
    "class ModelBasedReflexAgent:\n",
    "    def __init__(self, desired_temperature):\n",
    "        self.desired_temperature = desired_temperature\n",
    "        self.heater_status = False  # Initialize heater status to off\n",
    "\n",
    "    def perceive(self, current_temperature):\n",
    "        return current_temperature\n",
    "\n",
    "    def act(self, current_temperature):\n",
    "        if current_temperature < self.desired_temperature and not self.heater_status:\n",
    "            action = \"Turn on heater\"\n",
    "            self.heater_status = True\n",
    "        elif current_temperature >= self.desired_temperature and self.heater_status:\n",
    "            action = \"Turn off heater\"\n",
    "            self.heater_status = False\n",
    "        else:\n",
    "            action = \"No action needed\"\n",
    "        return action\n",
    "\n",
    "# simulating different rooms with different current temperatures\n",
    "rooms = {\n",
    "    \"Living Room\": 18,\n",
    "    \"Bedroom\": 22,\n",
    "    \"Kitchen\": 20,\n",
    "    \"Bathroom\": 24\n",
    "}\n",
    "\n",
    "# desired temperature for all rooms\n",
    "desired_temperature = 22\n",
    "agent = ModelBasedReflexAgent(desired_temperature)\n",
    "\n",
    "# run the agent for each room\n",
    "for room, temperature in rooms.items():\n",
    "    action = agent.act(temperature)\n",
    "    print(f\"{room}: Current temperature = {temperature}°C. {action}.\")"
   ]
  },
  {
   "cell_type": "code",
   "execution_count": null,
   "metadata": {},
   "outputs": [],
   "source": []
  }
 ],
 "metadata": {
  "kernelspec": {
   "display_name": "Python 3",
   "language": "python",
   "name": "python3"
  },
  "language_info": {
   "codemirror_mode": {
    "name": "ipython",
    "version": 3
   },
   "file_extension": ".py",
   "mimetype": "text/x-python",
   "name": "python",
   "nbconvert_exporter": "python",
   "pygments_lexer": "ipython3",
   "version": "3.11.9"
  }
 },
 "nbformat": 4,
 "nbformat_minor": 2
}
