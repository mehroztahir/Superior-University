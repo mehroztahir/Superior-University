{
 "cells": [
  {
   "cell_type": "code",
   "execution_count": 1,
   "metadata": {},
   "outputs": [
    {
     "name": "stderr",
     "output_type": "stream",
     "text": [
      "<>:9: SyntaxWarning: invalid escape sequence '\\*'\n",
      "<>:9: SyntaxWarning: invalid escape sequence '\\*'\n",
      "C:\\Users\\REX\\AppData\\Local\\Temp\\ipykernel_968\\4021492892.py:9: SyntaxWarning: invalid escape sequence '\\*'\n",
      "  \"\"\"\n",
      "C:\\Users\\REX\\AppData\\Local\\Temp\\ipykernel_968\\4021492892.py:9: SyntaxWarning: invalid escape sequence '\\*'\n",
      "  \"\"\"\n"
     ]
    },
    {
     "ename": "TypeError",
     "evalue": "unsupported operand type(s) for -: 'str' and 'str'",
     "output_type": "error",
     "traceback": [
      "\u001b[1;31m---------------------------------------------------------------------------\u001b[0m",
      "\u001b[1;31mTypeError\u001b[0m                                 Traceback (most recent call last)",
      "Cell \u001b[1;32mIn[1], line 53\u001b[0m\n\u001b[0;32m     50\u001b[0m start_node \u001b[38;5;241m=\u001b[39m \u001b[38;5;124m'\u001b[39m\u001b[38;5;124mA\u001b[39m\u001b[38;5;124m'\u001b[39m\n\u001b[0;32m     51\u001b[0m goal_node \u001b[38;5;241m=\u001b[39m \u001b[38;5;124m'\u001b[39m\u001b[38;5;124mF\u001b[39m\u001b[38;5;124m'\u001b[39m\n\u001b[1;32m---> 53\u001b[0m path, cost \u001b[38;5;241m=\u001b[39m \u001b[43ma_star_search\u001b[49m\u001b[43m(\u001b[49m\u001b[43mstart_node\u001b[49m\u001b[43m,\u001b[49m\u001b[43m \u001b[49m\u001b[43mgoal_node\u001b[49m\u001b[43m,\u001b[49m\u001b[43m \u001b[49m\u001b[43mgraph\u001b[49m\u001b[43m)\u001b[49m\n\u001b[0;32m     54\u001b[0m \u001b[38;5;28mprint\u001b[39m(\u001b[38;5;124m\"\u001b[39m\u001b[38;5;124mPath:\u001b[39m\u001b[38;5;124m\"\u001b[39m, path)\n\u001b[0;32m     55\u001b[0m \u001b[38;5;28mprint\u001b[39m(\u001b[38;5;124m\"\u001b[39m\u001b[38;5;124mCost:\u001b[39m\u001b[38;5;124m\"\u001b[39m, cost)\n",
      "Cell \u001b[1;32mIn[1], line 15\u001b[0m, in \u001b[0;36ma_star_search\u001b[1;34m(start, goal, graph)\u001b[0m\n\u001b[0;32m     13\u001b[0m came_from \u001b[38;5;241m=\u001b[39m {}  \u001b[38;5;66;03m# dictionary to store the path\u001b[39;00m\n\u001b[0;32m     14\u001b[0m g_score \u001b[38;5;241m=\u001b[39m {start: \u001b[38;5;241m0\u001b[39m}  \u001b[38;5;66;03m# dictionary to store the cost\u001b[39;00m\n\u001b[1;32m---> 15\u001b[0m f_score \u001b[38;5;241m=\u001b[39m {start: \u001b[43mheuristic\u001b[49m\u001b[43m(\u001b[49m\u001b[43mstart\u001b[49m\u001b[43m,\u001b[49m\u001b[43m \u001b[49m\u001b[43mgoal\u001b[49m\u001b[43m)\u001b[49m}  \u001b[38;5;66;03m# dictionary to store the estimated total cost\u001b[39;00m\n\u001b[0;32m     17\u001b[0m \u001b[38;5;28;01mwhile\u001b[39;00m open_list:\n\u001b[0;32m     18\u001b[0m     current \u001b[38;5;241m=\u001b[39m \u001b[38;5;28mmin\u001b[39m(open_list, key\u001b[38;5;241m=\u001b[39m\u001b[38;5;28;01mlambda\u001b[39;00m x: x[\u001b[38;5;241m0\u001b[39m])[\u001b[38;5;241m1\u001b[39m]\n",
      "Cell \u001b[1;32mIn[1], line 6\u001b[0m, in \u001b[0;36mheuristic\u001b[1;34m(node, goal)\u001b[0m\n\u001b[0;32m      1\u001b[0m \u001b[38;5;28;01mdef\u001b[39;00m \u001b[38;5;21mheuristic\u001b[39m(node, goal):\n\u001b[0;32m      2\u001b[0m \u001b[38;5;250m    \u001b[39m\u001b[38;5;124;03m\"\"\"\u001b[39;00m\n\u001b[0;32m      3\u001b[0m \u001b[38;5;124;03m    Calculate the heuristic distance between two nodes.\u001b[39;00m\n\u001b[0;32m      4\u001b[0m \u001b[38;5;124;03m    In this case, we use the Manhattan distance (L1 distance).\u001b[39;00m\n\u001b[0;32m      5\u001b[0m \u001b[38;5;124;03m    \"\"\"\u001b[39;00m\n\u001b[1;32m----> 6\u001b[0m     \u001b[38;5;28;01mreturn\u001b[39;00m \u001b[38;5;28mabs\u001b[39m(\u001b[43mnode\u001b[49m\u001b[43m[\u001b[49m\u001b[38;5;241;43m0\u001b[39;49m\u001b[43m]\u001b[49m\u001b[43m \u001b[49m\u001b[38;5;241;43m-\u001b[39;49m\u001b[43m \u001b[49m\u001b[43mgoal\u001b[49m\u001b[43m[\u001b[49m\u001b[38;5;241;43m0\u001b[39;49m\u001b[43m]\u001b[49m) \u001b[38;5;241m+\u001b[39m \u001b[38;5;28mabs\u001b[39m(node[\u001b[38;5;241m1\u001b[39m] \u001b[38;5;241m-\u001b[39m goal[\u001b[38;5;241m1\u001b[39m])\n",
      "\u001b[1;31mTypeError\u001b[0m: unsupported operand type(s) for -: 'str' and 'str'"
     ]
    }
   ],
   "source": [
    "def heuristic(node, goal):\n",
    "    \"\"\"\n",
    "    Calculate the heuristic distance between two nodes.\n",
    "    In this case, we use the Manhattan distance (L1 distance).\n",
    "    \"\"\"\n",
    "    return abs(node[0] - goal[0]) + abs(node[1] - goal[1])\n",
    "\n",
    "def a_star_search(start, goal, graph):\n",
    "    \"\"\"\n",
    "    A\\* search algorithm.\n",
    "    \"\"\"\n",
    "    open_list = [(0, start)]  # priority queue\n",
    "    came_from = {}  # dictionary to store the path\n",
    "    g_score = {start: 0}  # dictionary to store the cost\n",
    "    f_score = {start: heuristic(start, goal)}  # dictionary to store the estimated total cost\n",
    "\n",
    "    while open_list:\n",
    "        current = min(open_list, key=lambda x: x[0])[1]\n",
    "        open_list.remove((f_score[current], current))\n",
    "\n",
    "        if current == goal:\n",
    "            path = []\n",
    "            while current in came_from:\n",
    "                path.append(current)\n",
    "                current = came_from[current]\n",
    "            path.append(start)\n",
    "            path.reverse()\n",
    "            return path, f_score[goal]\n",
    "\n",
    "        for neighbor in graph[current]:\n",
    "            tentative_g_score = g_score[current] + 1\n",
    "            if neighbor not in g_score or tentative_g_score < g_score[neighbor]:\n",
    "                came_from[neighbor] = current\n",
    "                g_score[neighbor] = tentative_g_score\n",
    "                f_score[neighbor] = tentative_g_score + heuristic(neighbor, goal)\n",
    "                open_list.append((f_score[neighbor], neighbor))\n",
    "\n",
    "    return None, None\n",
    "\n",
    "#Usage\n",
    "graph = {\n",
    "    'A': ['B', 'C'],\n",
    "    'B': ['A', 'D', 'E'],\n",
    "    'C': ['A', 'F'],\n",
    "    'D': ['B'],\n",
    "    'E': ['B', 'F'],\n",
    "    'F': ['C', 'E']\n",
    "}\n",
    "\n",
    "start_node = 'A'\n",
    "goal_node = 'F'\n",
    "\n",
    "path, cost = a_star_search(start_node, goal_node, graph)\n",
    "print(\"Path:\", path)\n",
    "print(\"Cost:\", cost)"
   ]
  },
  {
   "cell_type": "code",
   "execution_count": null,
   "metadata": {},
   "outputs": [],
   "source": []
  }
 ],
 "metadata": {
  "kernelspec": {
   "display_name": "Python 3",
   "language": "python",
   "name": "python3"
  },
  "language_info": {
   "codemirror_mode": {
    "name": "ipython",
    "version": 3
   },
   "file_extension": ".py",
   "mimetype": "text/x-python",
   "name": "python",
   "nbconvert_exporter": "python",
   "pygments_lexer": "ipython3",
   "version": "3.12.7"
  }
 },
 "nbformat": 4,
 "nbformat_minor": 2
}
