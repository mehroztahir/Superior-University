{
 "cells": [
  {
   "cell_type": "markdown",
   "metadata": {},
   "source": [
    "# Task 1: Code for LUHN Algorithm"
   ]
  },
  {
   "cell_type": "code",
   "execution_count": 2,
   "metadata": {},
   "outputs": [
    {
     "name": "stdout",
     "output_type": "stream",
     "text": [
      "Card number is valid\n"
     ]
    }
   ],
   "source": [
    "def validate_luhn(card_number):\n",
    "    def digits_of(n):\n",
    "        return [int(d) for d in str(n)]\n",
    "    digits = digits_of(card_number)\n",
    "    odd_digits = digits[-1::-2]\n",
    "    even_digits = digits[-2::-2]\n",
    "    checksum = sum(odd_digits)\n",
    "    for d in even_digits:\n",
    "        checksum += sum(digits_of(d*2))\n",
    "    return checksum % 10 == 0\n",
    "\n",
    "# Example usage:\n",
    "card_number = 4532015112830366\n",
    "if validate_luhn(card_number):\n",
    "    print(\"Card number is valid\")\n",
    "else:\n",
    "    print(\"Card number is invalid\")"
   ]
  },
  {
   "cell_type": "markdown",
   "metadata": {},
   "source": [
    "# Task 2: Remove Punctuations from UserInput String (without using remove function)"
   ]
  },
  {
   "cell_type": "code",
   "execution_count": 4,
   "metadata": {},
   "outputs": [
    {
     "name": "stdout",
     "output_type": "stream",
     "text": [
      "Hello How it was going\n"
     ]
    }
   ],
   "source": [
    "def remove_punctuations(input_string):\n",
    "    punctuation_marks = \"\"\"!()[]{};:'\",.<>/?@#$%^&*_~\"\"\"\n",
    "    output_string = \"\"\n",
    "    for char in input_string:\n",
    "        if char not in punctuation_marks:\n",
    "            output_string += char\n",
    "    return output_string\n",
    "\n",
    "user_input = \"Hello! How it was going?\"\n",
    "clean_string = remove_punctuations(user_input)\n",
    "print(clean_string) "
   ]
  },
  {
   "cell_type": "markdown",
   "metadata": {},
   "source": [
    "# Task 3: Sort text (word) in Alphabetical Order (without using sort function)"
   ]
  },
  {
   "cell_type": "code",
   "execution_count": 8,
   "metadata": {},
   "outputs": [
    {
     "name": "stdout",
     "output_type": "stream",
     "text": [
      "Hey Mehroz is my name\n"
     ]
    }
   ],
   "source": [
    "def sort_words(input_string):\n",
    "    words = input_string.split()\n",
    "    sorted_words = []\n",
    "    while words:\n",
    "        min_word = words[0]\n",
    "        min_index = 0\n",
    "        for i, word in enumerate(words):\n",
    "            if word < min_word:\n",
    "                min_word = word\n",
    "                min_index = i\n",
    "        sorted_words.append(min_word)\n",
    "        words.pop(min_index)\n",
    "    return \" \".join(sorted_words)\n",
    "\n",
    "#usage:\n",
    "user_input = \"Hey my name is Mehroz\"\n",
    "sorted_string = sort_words(user_input)\n",
    "print(sorted_string)"
   ]
  },
  {
   "cell_type": "code",
   "execution_count": null,
   "metadata": {},
   "outputs": [],
   "source": []
  }
 ],
 "metadata": {
  "kernelspec": {
   "display_name": "Python 3",
   "language": "python",
   "name": "python3"
  },
  "language_info": {
   "codemirror_mode": {
    "name": "ipython",
    "version": 3
   },
   "file_extension": ".py",
   "mimetype": "text/x-python",
   "name": "python",
   "nbconvert_exporter": "python",
   "pygments_lexer": "ipython3",
   "version": "3.11.9"
  }
 },
 "nbformat": 4,
 "nbformat_minor": 2
}
