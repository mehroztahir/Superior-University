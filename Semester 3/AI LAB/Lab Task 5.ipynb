{
 "cells": [
  {
   "cell_type": "markdown",
   "metadata": {},
   "source": [
    "# Task 1"
   ]
  },
  {
   "cell_type": "code",
   "execution_count": 7,
   "metadata": {},
   "outputs": [],
   "source": [
    "class Node:\n",
    "    def __init__(self, value):\n",
    "        self.value = value\n",
    "        self.children = []  # List to hold the node's neighbors\n",
    "\n",
    "    def add_child(self, child_node):\n",
    "        self.children.append(child_node)\n",
    "\n",
    "    def __repr__(self):\n",
    "        return self.value\n",
    "    "
   ]
  },
  {
   "cell_type": "code",
   "execution_count": 8,
   "metadata": {},
   "outputs": [],
   "source": [
    "def dfs(start_node):\n",
    "    stack = []  # Initialize the stack\n",
    "    visited = set()  # Set to track visited nodes\n",
    "\n",
    "    stack.append(start_node)  # Start with the initial node\n",
    "\n",
    "    while stack:\n",
    "        current_node = stack.pop()  # Get the last node added to the stack\n",
    "\n",
    "        if current_node not in visited:\n",
    "            print(current_node)  # Process the node (e.g., print its value)\n",
    "            visited.add(current_node)  # Mark the node as visited\n",
    "            \n",
    "            # Push all unvisited children onto the stack\n",
    "            for child in current_node.children:\n",
    "                if child not in visited:\n",
    "                    stack.append(child)\n"
   ]
  },
  {
   "cell_type": "code",
   "execution_count": 9,
   "metadata": {},
   "outputs": [
    {
     "name": "stdout",
     "output_type": "stream",
     "text": [
      "DFS traversal starting from node 1:\n",
      "1\n",
      "3\n",
      "5\n",
      "2\n",
      "4\n"
     ]
    }
   ],
   "source": [
    "# Creating the graph\n",
    "node_1 = Node(\"1\")\n",
    "node_2 = Node(\"2\")\n",
    "node_3 = Node(\"3\")\n",
    "node_4 = Node(\"4\")\n",
    "node_5 = Node(\"5\")\n",
    "\n",
    "# Connecting nodes\n",
    "node_1.add_child(node_2)\n",
    "node_1.add_child(node_3)\n",
    "node_2.add_child(node_4)\n",
    "node_3.add_child(node_5)\n",
    "\n",
    "# Performing DFS\n",
    "print(\"DFS traversal starting from node 1:\")\n",
    "dfs(node_1)\n"
   ]
  },
  {
   "cell_type": "markdown",
   "metadata": {},
   "source": [
    "# Task 2"
   ]
  },
  {
   "cell_type": "code",
   "execution_count": 10,
   "metadata": {},
   "outputs": [],
   "source": [
    "class Node:\n",
    "    def __init__(self, value):\n",
    "        self.value = value\n",
    "        self.left = None\n",
    "        self.right = None\n"
   ]
  },
  {
   "cell_type": "code",
   "execution_count": 11,
   "metadata": {},
   "outputs": [],
   "source": [
    "def preorder_traversal(node):\n",
    "    if node:\n",
    "        print(node.value)  # Process the current node\n",
    "        preorder_traversal(node.left)  # Traverse the left subtree\n",
    "        preorder_traversal(node.right)  # Traverse the right subtree\n",
    "\n",
    "def inorder_traversal(node):\n",
    "    if node:\n",
    "        inorder_traversal(node.left)  # Traverse the left subtree\n",
    "        print(node.value)  # Process the current node\n",
    "        inorder_traversal(node.right)  # Traverse the right subtree\n",
    "\n",
    "def postorder_traversal(node):\n",
    "    if node:\n",
    "        postorder_traversal(node.left)  # Traverse the left subtree\n",
    "        postorder_traversal(node.right)  # Traverse the right subtree\n",
    "        print(node.value)  # Process the current node\n"
   ]
  },
  {
   "cell_type": "code",
   "execution_count": 12,
   "metadata": {},
   "outputs": [
    {
     "name": "stdout",
     "output_type": "stream",
     "text": [
      "Preorder Traversal:\n",
      "A\n",
      "B\n",
      "D\n",
      "E\n",
      "C\n",
      "F\n",
      "G\n",
      "\n",
      "Inorder Traversal:\n",
      "D\n",
      "B\n",
      "E\n",
      "A\n",
      "F\n",
      "C\n",
      "G\n",
      "\n",
      "Postorder Traversal:\n",
      "D\n",
      "E\n",
      "B\n",
      "F\n",
      "G\n",
      "C\n",
      "A\n"
     ]
    }
   ],
   "source": [
    "# Creating a simple binary tree\n",
    "root = Node(\"A\")\n",
    "root.left = Node(\"B\")\n",
    "root.right = Node(\"C\")\n",
    "root.left.left = Node(\"D\")\n",
    "root.left.right = Node(\"E\")\n",
    "root.right.left = Node(\"F\")\n",
    "root.right.right = Node(\"G\")\n",
    "\n",
    "print(\"Preorder Traversal:\")\n",
    "preorder_traversal(root)\n",
    "\n",
    "print(\"\\nInorder Traversal:\")\n",
    "inorder_traversal(root)\n",
    "\n",
    "print(\"\\nPostorder Traversal:\")\n",
    "postorder_traversal(root)\n"
   ]
  },
  {
   "cell_type": "code",
   "execution_count": null,
   "metadata": {},
   "outputs": [],
   "source": []
  }
 ],
 "metadata": {
  "kernelspec": {
   "display_name": "Python 3",
   "language": "python",
   "name": "python3"
  },
  "language_info": {
   "codemirror_mode": {
    "name": "ipython",
    "version": 3
   },
   "file_extension": ".py",
   "mimetype": "text/x-python",
   "name": "python",
   "nbconvert_exporter": "python",
   "pygments_lexer": "ipython3",
   "version": "3.12.7"
  }
 },
 "nbformat": 4,
 "nbformat_minor": 2
}
