{
 "cells": [
  {
   "cell_type": "code",
   "execution_count": 1,
   "metadata": {},
   "outputs": [
    {
     "name": "stdout",
     "output_type": "stream",
     "text": [
      "0\n",
      "1\n",
      "2\n",
      "3\n",
      "4\n",
      "5\n"
     ]
    }
   ],
   "source": [
    "def bfs_without_queue(graph, start):\n",
    "    visited = set()\n",
    "    visited.add(start)\n",
    "    current_level = [start]\n",
    "\n",
    "    while current_level:\n",
    "        next_level = []\n",
    "        for node in current_level:\n",
    "            print(node)  # Process the node\n",
    "            for neighbor in graph[node]:\n",
    "                if neighbor not in visited:\n",
    "                    visited.add(neighbor)\n",
    "                    next_level.append(neighbor)\n",
    "        \n",
    "        current_level = next_level\n",
    "\n",
    "\n",
    "graph = {\n",
    "    0: [1, 2],\n",
    "    1: [0, 3, 4],\n",
    "    2: [0],\n",
    "    3: [1],\n",
    "    4: [1, 5],\n",
    "    5: [4]\n",
    "}\n",
    "\n",
    "bfs_without_queue(graph, 0)\n"
   ]
  },
  {
   "cell_type": "code",
   "execution_count": 2,
   "metadata": {},
   "outputs": [],
   "source": [
    "class Node:\n",
    "    def __init__(self, value):\n",
    "        self.value = value\n",
    "        self.children = []\n",
    "\n",
    "    def add_child(self, child_node):\n",
    "        self.children.append(child_node)"
   ]
  },
  {
   "cell_type": "code",
   "execution_count": 3,
   "metadata": {},
   "outputs": [],
   "source": [
    "from collections import deque\n",
    "\n",
    "def bfs(start_node):\n",
    "    visited = set()          # To track visited nodes\n",
    "    queue = deque([start_node])  # Initialize the queue with the start node\n",
    "\n",
    "    while queue:\n",
    "        current_node = queue.popleft()  # Dequeue a node\n",
    "        if current_node not in visited:\n",
    "            print(current_node.value)  # Process the current node\n",
    "            visited.add(current_node)    # Mark the current node as visited\n",
    "            \n",
    "            # Enqueue all unvisited children\n",
    "            for child in current_node.children:\n",
    "                if child not in visited:\n",
    "                    queue.append(child)"
   ]
  },
  {
   "cell_type": "code",
   "execution_count": 4,
   "metadata": {},
   "outputs": [
    {
     "name": "stdout",
     "output_type": "stream",
     "text": [
      "1\n",
      "3\n",
      "4\n",
      "5\n"
     ]
    }
   ],
   "source": [
    "# Create nodes\n",
    "node0 = Node(0)\n",
    "node1 = Node(1)\n",
    "node2 = Node(2)\n",
    "node3 = Node(3)\n",
    "node4 = Node(4)\n",
    "node5 = Node(5)\n",
    "\n",
    "# Build the graph (tree structure)\n",
    "node0.add_child(node1)\n",
    "node0.add_child(node2)\n",
    "node1.add_child(node3)\n",
    "node1.add_child(node4)\n",
    "node4.add_child(node5)\n",
    "\n",
    "# Perform BFS\n",
    "bfs(node1)\n"
   ]
  },
  {
   "cell_type": "code",
   "execution_count": null,
   "metadata": {},
   "outputs": [],
   "source": []
  }
 ],
 "metadata": {
  "kernelspec": {
   "display_name": "Python 3",
   "language": "python",
   "name": "python3"
  },
  "language_info": {
   "codemirror_mode": {
    "name": "ipython",
    "version": 3
   },
   "file_extension": ".py",
   "mimetype": "text/x-python",
   "name": "python",
   "nbconvert_exporter": "python",
   "pygments_lexer": "ipython3",
   "version": "3.12.7"
  }
 },
 "nbformat": 4,
 "nbformat_minor": 2
}
