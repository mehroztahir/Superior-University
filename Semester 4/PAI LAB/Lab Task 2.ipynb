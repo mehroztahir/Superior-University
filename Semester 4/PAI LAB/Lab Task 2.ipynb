{
 "cells": [
  {
   "cell_type": "code",
   "execution_count": null,
   "id": "d97b8bdd",
   "metadata": {},
   "outputs": [],
   "source": [
    "import pandas as pd\n",
    "import numpy as np\n",
    "from sklearn.model_selection import train_test_split\n",
    "from sklearn.preprocessing import LabelEncoder\n",
    "from sklearn.impute import SimpleImputer\n",
    "from sklearn.ensemble import RandomForestRegressor\n",
    "from sklearn.metrics import mean_squared_error"
   ]
  },
  {
   "cell_type": "code",
   "execution_count": null,
   "id": "831c8671",
   "metadata": {},
   "outputs": [],
   "source": [
    "# Load the datasets\n",
    "train_path = \"train.csv\"\n",
    "test_path = \"test.csv\"\n",
    "submission_path = \"sample_submission.csv\"\n",
    "\n",
    "train_df = pd.read_csv(train_path)\n",
    "test_df = pd.read_csv(test_path)"
   ]
  },
  {
   "cell_type": "code",
   "execution_count": null,
   "id": "07a93a33",
   "metadata": {},
   "outputs": [],
   "source": [
    "test_ids = test_df[\"Id\"]  \n",
    "train_df = train_df.drop(columns=[\"Id\"])\n",
    "test_df = test_df.drop(columns=[\"Id\"])"
   ]
  },
  {
   "cell_type": "code",
   "execution_count": null,
   "id": "805f884f",
   "metadata": {},
   "outputs": [],
   "source": [
    "num_cols = train_df.select_dtypes(include=[\"number\"]).columns.tolist()\n",
    "cat_cols = train_df.select_dtypes(exclude=[\"number\"]).columns.tolist()"
   ]
  },
  {
   "cell_type": "code",
   "execution_count": null,
   "id": "78a91d23",
   "metadata": {},
   "outputs": [],
   "source": [
    "num_cols.remove(\"SalePrice\")"
   ]
  },
  {
   "cell_type": "code",
   "execution_count": null,
   "id": "99384b6c",
   "metadata": {},
   "outputs": [],
   "source": [
    "imputer_num = SimpleImputer(strategy=\"median\")\n",
    "imputer_cat = SimpleImputer(strategy=\"most_frequent\")"
   ]
  },
  {
   "cell_type": "code",
   "execution_count": null,
   "id": "a11cba2d",
   "metadata": {},
   "outputs": [],
   "source": [
    "train_df[num_cols] = imputer_num.fit_transform(train_df[num_cols])\n",
    "test_df[num_cols] = imputer_num.transform(test_df[num_cols])\n",
    "\n",
    "train_df[cat_cols] = imputer_cat.fit_transform(train_df[cat_cols])\n",
    "test_df[cat_cols] = imputer_cat.transform(test_df[cat_cols])"
   ]
  },
  {
   "cell_type": "code",
   "execution_count": null,
   "id": "7d3f58a5",
   "metadata": {},
   "outputs": [],
   "source": [
    "label_encoders = {}\n",
    "for col in cat_cols:\n",
    "    le = LabelEncoder()\n",
    "    train_df[col] = le.fit_transform(train_df[col])\n",
    "    test_df[col] = test_df[col].apply(lambda x: x if x in le.classes_ else \"Unknown\")\n",
    "    le.classes_ = np.append(le.classes_, \"Unknown\")\n",
    "    test_df[col] = le.transform(test_df[col])\n",
    "    label_encoders[col] = le"
   ]
  },
  {
   "cell_type": "code",
   "execution_count": null,
   "id": "b9981f8e",
   "metadata": {},
   "outputs": [],
   "source": [
    "common_cols = list(set(train_df.columns) & set(test_df.columns))\n",
    "X = train_df[common_cols]\n",
    "y = train_df[\"SalePrice\"]\n",
    "X_test = test_df[common_cols]"
   ]
  },
  {
   "cell_type": "code",
   "execution_count": null,
   "id": "d1a0a88d",
   "metadata": {},
   "outputs": [],
   "source": [
    "X_train, X_valid, y_train, y_valid = train_test_split(X, y, test_size=0.2, random_state=42)"
   ]
  },
  {
   "cell_type": "code",
   "execution_count": null,
   "id": "0345314b",
   "metadata": {},
   "outputs": [],
   "source": [
    "model = RandomForestRegressor(n_estimators=100, random_state=42)\n",
    "model.fit(X_train, y_train)\n"
   ]
  },
  {
   "cell_type": "code",
   "execution_count": null,
   "id": "4bc44b18",
   "metadata": {},
   "outputs": [],
   "source": [
    "y_pred = model.predict(X_valid)\n",
    "rmse = np.sqrt(mean_squared_error(y_valid, y_pred))\n",
    "print(f\"Validation RMSE: {rmse}\")"
   ]
  },
  {
   "cell_type": "code",
   "execution_count": null,
   "id": "e2bde3bb",
   "metadata": {},
   "outputs": [],
   "source": [
    "missing_values = X_test.isnull().sum()\n",
    "for col in missing_values.index:\n",
    "    X_test[col] = X_test[col].fillna(X[col].median())"
   ]
  },
  {
   "cell_type": "code",
   "execution_count": null,
   "id": "f02890a2",
   "metadata": {},
   "outputs": [],
   "source": [
    "test_predictions = model.predict(X_test)"
   ]
  },
  {
   "cell_type": "code",
   "execution_count": null,
   "id": "1b2e626b",
   "metadata": {},
   "outputs": [],
   "source": [
    "submission = pd.DataFrame({\"Id\": test_ids, \"SalePrice\": test_predictions})\n",
    "submission.to_csv(\"submission.csv\", index=False)"
   ]
  }
 ],
 "metadata": {
  "language_info": {
   "name": "python"
  }
 },
 "nbformat": 4,
 "nbformat_minor": 5
}
